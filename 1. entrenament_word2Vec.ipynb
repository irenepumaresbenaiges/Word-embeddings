{
  "cells": [
    {
      "cell_type": "code",
      "execution_count": null,
      "metadata": {
        "id": "ovkRBJgdQfDQ"
      },
      "outputs": [],
      "source": [
        "from gensim.models import Word2Vec\n",
        "from datasets import load_dataset\n",
        "import gensim\n",
        "import logging\n",
        "\n",
        "# Configuració de logging\n",
        "logging.basicConfig(format='%(asctime)s : %(levelname)s : %(message)s', level=logging.INFO)\n",
        "\n",
        "def read_corpus(dataset, limit=None):\n",
        "    \"\"\"\n",
        "    Llegeix les dades del dataset i les processa fins el límit de bytes especificat.\n",
        "    \"\"\"\n",
        "    current_size = 0\n",
        "    for example in dataset:\n",
        "        for line in example['text'].splitlines():\n",
        "            processed_line = gensim.utils.simple_preprocess(line)\n",
        "            current_size += sum(len(word) + 1 for word in processed_line)\n",
        "            if limit and current_size > limit:\n",
        "                return\n",
        "            yield processed_line\n",
        "\n",
        "# Carreguem el dataset 'catalan_general_crawling'\n",
        "dataset = load_dataset(\"projecte-aina/catalan_general_crawling\", split='train')"
      ]
    },
    {
      "cell_type": "markdown",
      "source": [
        "## Model de 100 MB"
      ],
      "metadata": {
        "id": "NWSQBxQzQhOW"
      }
    },
    {
      "cell_type": "code",
      "execution_count": null,
      "metadata": {
        "id": "IFUUBxqxQfDR"
      },
      "outputs": [],
      "source": [
        "# Limitem a 100MB de text\n",
        "limit_size = 100 * 1024 * 1024  # 100 MB en bytes\n",
        "sentences = list(read_corpus(dataset, limit=limit_size))\n",
        "\n",
        "# Configuració i entrenament del model Word2Vec\n",
        "model = Word2Vec(sentences, vector_size=100, window=5, min_count=10, workers=4, epochs=25)\n",
        "\n",
        "# Guardar el model\n",
        "model.save(\"catalan_word2vec_100MB.model\")"
      ]
    },
    {
      "cell_type": "markdown",
      "source": [
        "## Model de 500 MB"
      ],
      "metadata": {
        "id": "MB4D8LWBQvGU"
      }
    },
    {
      "cell_type": "code",
      "source": [
        "# Limitem a 500MB de text\n",
        "limit_size = 500 * 1024 * 1024  # 500 MB en bytes\n",
        "sentences = list(read_corpus(dataset, limit=limit_size))\n",
        "\n",
        "# Configuració i entrenament del model Word2Vec\n",
        "model = Word2Vec(sentences, vector_size=100, window=5, min_count=10, workers=4, epochs=25)\n",
        "\n",
        "# Guardar el model\n",
        "model.save(\"catalan_word2vec_500MB.model\")"
      ],
      "metadata": {
        "id": "PEUR26plSGxw"
      },
      "execution_count": null,
      "outputs": []
    },
    {
      "cell_type": "markdown",
      "source": [
        "## Model de 1 GB"
      ],
      "metadata": {
        "id": "f2kgEoCRQwsI"
      }
    },
    {
      "cell_type": "code",
      "source": [
        "# Limitem a 1000MB de text\n",
        "limit_size = 1000 * 1024 * 1024  # 1000 MB en bytes\n",
        "sentences = list(read_corpus(dataset, limit=limit_size))\n",
        "\n",
        "# Configuració i entrenament del model Word2Vec\n",
        "model = Word2Vec(sentences, vector_size=100, window=5, min_count=10, workers=4, epochs=25)\n",
        "\n",
        "# Guardar el model\n",
        "model.save(\"catalan_word2vec_1GB.model\")"
      ],
      "metadata": {
        "id": "sARXMjndSMHr"
      },
      "execution_count": null,
      "outputs": []
    },
    {
      "cell_type": "markdown",
      "source": [
        "## Model de 1 GB"
      ],
      "metadata": {
        "id": "whJYLybIQ0Wb"
      }
    },
    {
      "cell_type": "code",
      "source": [
        "sentences = list(read_corpus(dataset))\n",
        "\n",
        "# Configuració i entrenament del model Word2Vec\n",
        "model = Word2Vec(sentences, vector_size=100, window=5, min_count=10, workers=4, epochs=25)\n",
        "\n",
        "# Guardar el model\n",
        "model.save(\"catalan_word2vec_complete.model\")"
      ],
      "metadata": {
        "id": "09YSjZcyQ0c1"
      },
      "execution_count": null,
      "outputs": []
    }
  ],
  "metadata": {
    "kernelspec": {
      "display_name": "Python 3",
      "language": "python",
      "name": "python3"
    },
    "language_info": {
      "codemirror_mode": {
        "name": "ipython",
        "version": 3
      },
      "file_extension": ".py",
      "mimetype": "text/x-python",
      "name": "python",
      "nbconvert_exporter": "python",
      "pygments_lexer": "ipython3",
      "version": "3.10.11"
    },
    "colab": {
      "provenance": []
    }
  },
  "nbformat": 4,
  "nbformat_minor": 0
}